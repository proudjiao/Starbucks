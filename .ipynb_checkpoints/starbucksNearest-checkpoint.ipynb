{
 "cells": [
  {
   "cell_type": "raw",
   "id": "2787bcb7",
   "metadata": {},
   "source": [
    "LA County Zip Codes can be downloaded here:\n",
    "https://geohub.lacity.org/datasets/71b2fed2c1f24fc8850f5b7f8d2a320a/explore?location=33.799343%2C-118.302795%2C9.25\n",
    "\n",
    "LA Country GeoJSON can be downloaded here:\n",
    "https://github.com/ritvikmath/StarbucksStoreScraping/blob/master/laMap.geojson"
   ]
  },
  {
   "cell_type": "code",
   "execution_count": 9,
   "id": "580719e0",
   "metadata": {},
   "outputs": [],
   "source": [
    "import requests\n",
    "import numpy as np\n",
    "import matplotlib.pyplot as plt\n",
    "import pandas as pd\n",
    "import re\n",
    "import folium\n",
    "import json\n",
    "from folium import plugins\n",
    "import geopy.distance\n",
    "import seaborn as sns\n",
    "from shapely.geometry import Point\n",
    "from shapely.geometry.polygon import Polygon"
   ]
  },
  {
   "cell_type": "code",
   "execution_count": 12,
   "id": "238fdf24",
   "metadata": {},
   "outputs": [],
   "source": [
    "def get_store_lat_lngs(zcode):\n",
    "    request = f'https://www.starbucks.com/store-locator?place={zcode}'\n",
    "    response = requests.get(request)\n",
    "    lat_lngs = re.findall(r'\"coordinates\":\\{\"latitude\":(.*?)\\,\"longitude\":(.*?)\\}', response.text)\n",
    "    lat_lngs = [(float(item[0]), float(item[1])) for item in lat_lngs]\n",
    "    return lat_lngs"
   ]
  },
  {
   "cell_type": "markdown",
   "id": "6a3ed910",
   "metadata": {},
   "source": [
    "# Get all Starbucks Locations"
   ]
  },
  {
   "cell_type": "code",
   "execution_count": 13,
   "id": "274cd529",
   "metadata": {},
   "outputs": [],
   "source": [
    "la_zips = pd.read_csv('Zip_Codes_(LA_County).csv')"
   ]
  },
  {
   "cell_type": "code",
   "execution_count": null,
   "id": "dec89332",
   "metadata": {},
   "outputs": [],
   "source": [
    "enumerate(la_zips.ZIPCODE.values)"
   ]
  },
  {
   "cell_type": "code",
   "execution_count": 14,
   "id": "49d2743f",
   "metadata": {},
   "outputs": [],
   "source": [
    "starbucks_locs = []"
   ]
  },
  {
   "cell_type": "code",
   "execution_count": null,
   "id": "79b341e4",
   "metadata": {
    "scrolled": true
   },
   "outputs": [
    {
     "name": "stdout",
     "output_type": "stream",
     "text": [
      "0, 90001\n",
      "0 / 311\n",
      "1, 90002\n",
      "1 / 311\n",
      "2, 90003\n",
      "2 / 311\n",
      "3, 90004\n",
      "3 / 311\n",
      "4, 90005\n",
      "4 / 311\n",
      "5, 90006\n",
      "5 / 311\n",
      "6, 90007\n",
      "6 / 311\n",
      "7, 90008\n",
      "7 / 311\n",
      "8, 90010\n",
      "8 / 311\n",
      "9, 90011\n",
      "9 / 311\n",
      "10, 90012\n",
      "10 / 311\n",
      "11, 90013\n",
      "11 / 311\n",
      "12, 90014\n",
      "12 / 311\n",
      "13, 90015\n",
      "13 / 311\n",
      "14, 90016\n",
      "14 / 311\n",
      "15, 90017\n",
      "15 / 311\n",
      "16, 90018\n",
      "16 / 311\n",
      "17, 90019\n",
      "17 / 311\n",
      "18, 90020\n",
      "18 / 311\n",
      "19, 90021\n",
      "19 / 311\n",
      "20, 90022\n",
      "20 / 311\n",
      "21, 90023\n",
      "21 / 311\n",
      "22, 90024\n",
      "22 / 311\n",
      "23, 90025\n",
      "23 / 311\n",
      "24, 90026\n",
      "24 / 311\n",
      "25, 90027\n",
      "25 / 311\n",
      "26, 90028\n",
      "26 / 311\n",
      "27, 90029\n",
      "27 / 311\n",
      "28, 90031\n",
      "28 / 311\n",
      "29, 90032\n",
      "29 / 311\n",
      "30, 90033\n",
      "30 / 311\n",
      "31, 90034\n",
      "31 / 311\n",
      "32, 90035\n",
      "32 / 311\n",
      "33, 90036\n",
      "33 / 311\n",
      "34, 90037\n",
      "34 / 311\n",
      "35, 90038\n",
      "35 / 311\n",
      "36, 90039\n",
      "36 / 311\n",
      "37, 90040\n",
      "37 / 311\n",
      "38, 90041\n",
      "38 / 311\n",
      "39, 90042\n",
      "39 / 311\n",
      "40, 90043\n",
      "40 / 311\n",
      "41, 90044\n",
      "41 / 311\n",
      "42, 90045\n",
      "42 / 311\n",
      "43, 90046\n",
      "43 / 311\n",
      "44, 90047\n",
      "44 / 311\n"
     ]
    }
   ],
   "source": [
    "for i,zcode in enumerate(la_zips.ZIPCODE.values):\n",
    "    print(f'{i} / {len(la_zips)}')\n",
    "    starbucks_locs += get_store_lat_lngs(zcode)"
   ]
  },
  {
   "cell_type": "code",
   "execution_count": 6,
   "id": "db49399d",
   "metadata": {},
   "outputs": [],
   "source": [
    "starbucks_locs = set(starbucks_locs)"
   ]
  },
  {
   "cell_type": "code",
   "execution_count": 7,
   "id": "8b0958ea",
   "metadata": {},
   "outputs": [],
   "source": [
    "starbucks_locs = list(starbucks_locs)"
   ]
  },
  {
   "cell_type": "markdown",
   "id": "8398a21f",
   "metadata": {},
   "source": [
    "# Distance to Closest Starbucks"
   ]
  },
  {
   "cell_type": "code",
   "execution_count": 8,
   "id": "bc7e26a9",
   "metadata": {},
   "outputs": [],
   "source": [
    "dist_matrix = np.empty((len(starbucks_locs), len(starbucks_locs)))\n",
    "for i1,s1 in enumerate(starbucks_locs):\n",
    "    for i2,s2 in enumerate(starbucks_locs):\n",
    "        if i1 <= i2:\n",
    "            d = geopy.distance.geodesic(s1, s2).mi\n",
    "            dist_matrix[i1,i2] = d\n",
    "            dist_matrix[i2,i1] = d"
   ]
  },
  {
   "cell_type": "code",
   "execution_count": 9,
   "id": "69a1472d",
   "metadata": {},
   "outputs": [],
   "source": [
    "np.fill_diagonal(dist_matrix, np.inf)"
   ]
  },
  {
   "cell_type": "code",
   "execution_count": 11,
   "id": "c21be714",
   "metadata": {},
   "outputs": [],
   "source": [
    "closest_locs = np.argmin(dist_matrix, axis=0)\n",
    "closest_dists = dist_matrix[np.arange(len(starbucks_locs)), closest_locs]"
   ]
  },
  {
   "cell_type": "code",
   "execution_count": 15,
   "id": "49bcb22f",
   "metadata": {},
   "outputs": [],
   "source": [
    "#map of LA county\n",
    "with open('laMap.geojson') as f:\n",
    "    laArea = json.load(f)\n",
    "    \n",
    "la_lng_lats = laArea['features'][0]['geometry']['coordinates'][0][0]\n",
    "polygon = Polygon(la_lng_lats)\n",
    "\n",
    "#initialize the map around LA County\n",
    "laMap = folium.Map(location=[34.0522,-118.2437], tiles='Stamen Toner', zoom_start=9)\n",
    "\n",
    "#add the shape of LA County to the map\n",
    "folium.GeoJson(laArea).add_to(laMap)\n",
    "\n",
    "#for each row in the Starbucks dataset, plot the corresponding latitude and longitude on the map\n",
    "for lat,lng in starbucks_locs:\n",
    "    if polygon.contains(Point(lng,lat)):\n",
    "        folium.CircleMarker((lat, lng), radius=4, weight=2, color='red', fill_color='red', fill_opacity=.5).add_to(laMap)\n",
    "   \n",
    "closest_dists_lim = []\n",
    "closest_locs = np.argmin(dist_matrix, axis=0)\n",
    "for i1,s1 in enumerate(starbucks_locs):\n",
    "    if polygon.contains(Point(s1[1],s1[0])):\n",
    "        s2 = starbucks_locs[closest_locs[i1]]\n",
    "        d = round(closest_dists[i1], 2)\n",
    "        folium.PolyLine([s1,s2], color='black', popup=f'{d} miles', fontsize=20).add_to(laMap)\n",
    "        closest_dists_lim.append(d)\n",
    "closest_dists_lim = np.array(closest_dists_lim)\n",
    "    \n",
    "#save the map as an html    \n",
    "laMap.save('laSbuxMap.html')"
   ]
  },
  {
   "cell_type": "code",
   "execution_count": 16,
   "id": "232ba8df",
   "metadata": {},
   "outputs": [
    {
     "data": {
      "text/plain": [
       "<matplotlib.lines.Line2D at 0x7f7e413b19d0>"
      ]
     },
     "execution_count": 16,
     "metadata": {},
     "output_type": "execute_result"
    },
    {
     "data": {
      "image/png": "[encoded data removed]",
      "text/plain": [
       "<Figure size 1600x500 with 1 Axes>"
      ]
     },
     "metadata": {},
     "output_type": "display_data"
    }
   ],
   "source": [
    "plt.figure(figsize=(16,5))\n",
    "sns.histplot(closest_dists_lim, kde=True, line_kws={'linewidth': 3}, stat='density')\n",
    "plt.xlabel('miles to closest Starbucks', fontsize=20)\n",
    "plt.xticks(np.arange(0, 3.1), fontsize=16)\n",
    "plt.ylabel('Density', fontsize=20)\n",
    "plt.axvline(np.mean(closest_dists), color='k', linestyle='--', linewidth=2.5, alpha=0.5)"
   ]
  },
  {
   "cell_type": "code",
   "execution_count": null,
   "id": "9832c610",
   "metadata": {},
   "outputs": [],
   "source": []
  }
 ],
 "metadata": {
  "kernelspec": {
   "display_name": "Python 3 (ipykernel)",
   "language": "python",
   "name": "python3"
  },
  "language_info": {
   "codemirror_mode": {
    "name": "ipython",
    "version": 3
   },
   "file_extension": ".py",
   "mimetype": "text/x-python",
   "name": "python",
   "nbconvert_exporter": "python",
   "pygments_lexer": "ipython3",
   "version": "3.10.9"
  }
 },
 "nbformat": 4,
 "nbformat_minor": 5
}
